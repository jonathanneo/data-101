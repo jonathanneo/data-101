{
 "cells": [
  {
   "cell_type": "markdown",
   "metadata": {},
   "source": [
    "# Import libraries \n",
    "\n",
    "Go ahead an import these popular libraries into your notebook by running\n",
    "\n",
    "```python\n",
    "import pandas as pd  \n",
    "import matplotlib.pyplot as plt \n",
    "```\n",
    "\n",
    "If these libraries do not exist on your computer, you would see a `Module Not Found` error. In that case, go ahead and install these libraries by running: \n",
    "\n",
    "```\n",
    "pip install pandas \n",
    "pip install matplotlib\n",
    "```\n"
   ]
  },
  {
   "cell_type": "code",
   "execution_count": null,
   "metadata": {},
   "outputs": [],
   "source": []
  },
  {
   "cell_type": "markdown",
   "metadata": {},
   "source": [
    "# Reading in data\n",
    "\n",
    "For this exercise, let's assume that a Data Engineer has prepared a dataset for you (as per the previous exercises we did), and the dataset is stored in `../resources/superstore.csv`. \n",
    "\n",
    "We can read in the data using: \n",
    "```python\n",
    "df = pd.read_csv(\"file_path_here\")\n",
    "```"
   ]
  },
  {
   "cell_type": "code",
   "execution_count": null,
   "metadata": {},
   "outputs": [],
   "source": [
    "# read in dataset \n",
    "\n",
    "# display first 5 rows \n"
   ]
  },
  {
   "cell_type": "markdown",
   "metadata": {},
   "source": [
    "# Answer Business Questions \n",
    "\n",
    "The CFO of GlobalSuperStore has asked us to provide answers on the following questions: \n",
    "- What is the total sales for the top 10 countries? \n",
    "- What is the average sales for the top 10 product sub-categories? \n",
    "\n",
    "To answer those questions, we can use two types of functions in Pandas: \n",
    "- **group by functions**: used to group data based on categories. \n",
    "    - use: `df.groupby()`\n",
    "- **aggregation functions**: used to perform calculations on values based on the groupings. \n",
    "    - you can use: \n",
    "        - `count()`: to count rows for each group \n",
    "        - `sum()`: to sum all values for each group \n",
    "        - `mean()`: to calculate the average for each group \n",
    "        - `min()`: to calculate the minimum for each group \n",
    "        - `max()`: to calculate the maximum for each group \n",
    "\n",
    "The group by and aggregation functions **must** be used together. "
   ]
  },
  {
   "cell_type": "markdown",
   "metadata": {},
   "source": [
    "### Question 1: What is the total sales for the top 10 countries? "
   ]
  },
  {
   "cell_type": "code",
   "execution_count": null,
   "metadata": {},
   "outputs": [],
   "source": [
    "# perform groupby and aggregations\n"
   ]
  },
  {
   "cell_type": "code",
   "execution_count": null,
   "metadata": {},
   "outputs": [],
   "source": [
    "# display results in a bar chart \n",
    "\n",
    "# add chart title \n",
    "\n",
    "# add x-axis label \n",
    "\n",
    "# add y-axis label \n",
    "\n",
    "# rotate x-ticks by 90 degrees \n",
    "\n",
    "# save figure to file \n",
    "\n",
    "# show figure \n"
   ]
  },
  {
   "cell_type": "markdown",
   "metadata": {},
   "source": [
    "### Question 2: What is the average sales for the top 10 product sub-categories? "
   ]
  },
  {
   "cell_type": "code",
   "execution_count": null,
   "metadata": {},
   "outputs": [],
   "source": [
    "# perform groupby and aggregations\n"
   ]
  },
  {
   "cell_type": "code",
   "execution_count": null,
   "metadata": {},
   "outputs": [],
   "source": [
    "# display results in a bar chart \n",
    "\n",
    "# add chart title \n",
    "\n",
    "# add x-axis label \n",
    "\n",
    "# add y-axis label \n",
    "\n",
    "# rotate x-ticks by 90 degrees \n",
    "\n",
    "# save figure to file \n",
    "\n",
    "# show figure \n"
   ]
  }
 ],
 "metadata": {
  "interpreter": {
   "hash": "737dee95f12251952d689b173c016b638423f6644d23ceedebaa683681f8eb4f"
  },
  "kernelspec": {
   "display_name": "Python 3.8.11 64-bit ('data101': conda)",
   "name": "python3"
  },
  "language_info": {
   "codemirror_mode": {
    "name": "ipython",
    "version": 3
   },
   "file_extension": ".py",
   "mimetype": "text/x-python",
   "name": "python",
   "nbconvert_exporter": "python",
   "pygments_lexer": "ipython3",
   "version": "3.8.11"
  },
  "orig_nbformat": 4
 },
 "nbformat": 4,
 "nbformat_minor": 2
}
