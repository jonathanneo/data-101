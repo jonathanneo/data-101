{
 "cells": [
  {
   "cell_type": "markdown",
   "metadata": {},
   "source": [
    "# Import libraries \n",
    "\n",
    "As a data analyst, you would typically use libraries such as: \n",
    "- `pandas` : used to read data into a structured tabular format known as a `DataFrame`. It supports reading data from files, databases and APIs. It allows for operations to be performed on the `DataFrame` before then being written out to another file or database. \n",
    "- `matplotlib` : used to send create visualisations.  \n",
    "- And much more..! Depending on what you need to do. \n",
    "\n",
    "Go ahead an import these popular libraries into your notebook by running\n",
    "\n",
    "```python\n",
    "import pandas as pd  \n",
    "import matplotlib.pyplot as plt \n",
    "```\n",
    "\n",
    "If these libraries do not exist on your computer, you would see a `Module Not Found` error. In that case, go ahead and install these libraries by running: \n",
    "\n",
    "```\n",
    "pip install pandas \n",
    "pip install matplotlib\n",
    "```\n"
   ]
  },
  {
   "cell_type": "code",
   "execution_count": null,
   "metadata": {},
   "outputs": [],
   "source": []
  },
  {
   "cell_type": "markdown",
   "metadata": {},
   "source": [
    "# Reading in data\n",
    "\n",
    "As a Data Analyst, you would work closely with the Data Engineer to have the data pulled in from various sources to speed up your ability to answer business questions. \n",
    "\n",
    "For this instructor demo, let's assume that a Data Engineer has prepared a dataset for you (as per the previous exercises we did), and the dataset is stored in `../resources/final_superstore.csv`. \n",
    "\n",
    "We can read in the data using: \n",
    "```python\n",
    "pd.read_csv(\"file_path_here\")\n",
    "```"
   ]
  },
  {
   "cell_type": "code",
   "execution_count": null,
   "metadata": {},
   "outputs": [],
   "source": []
  },
  {
   "cell_type": "markdown",
   "metadata": {},
   "source": [
    "# Answer Questions \n",
    "\n",
    "As a Data Analyst, your role is to work closely with the business to use data to answer their questions. Using data to inform decisions is incredibly powerful to a business. Without it, decision makers are left to make decisions in the dark or using their gut-feel which can be misleading. \n",
    "\n",
    "The CFO of GlobalSuperStore has asked us to provide answers on the following questions: \n",
    "- What is my total sales for the top 10 State? \n",
    "- What is my average sales for the top 10 Product Categories? \n",
    "\n",
    "To answer those questions, we can use two types of functions in Pandas: \n",
    "- **group by functions**: used to group data based on categories. \n",
    "    - use: `df.groupby()`\n",
    "- **aggregation functions**: used to perform calculations on values based on the groupings. \n",
    "    - you can use: \n",
    "        - `count()`: to count rows for each group \n",
    "        - `sum()`: to sum all values for each group \n",
    "        - `mean()`: to calculate the average for each group \n",
    "        - `min()`: to calculate the minimum for each group \n",
    "        - `max()`: to calculate the maximum for each group \n",
    "\n",
    "The group by and aggregation functions **must** be used together. "
   ]
  },
  {
   "cell_type": "markdown",
   "metadata": {},
   "source": [
    "### Question 1: What is my total sales the top 10 States? "
   ]
  },
  {
   "cell_type": "code",
   "execution_count": null,
   "metadata": {},
   "outputs": [],
   "source": [
    "# calculate total sales by state "
   ]
  },
  {
   "cell_type": "code",
   "execution_count": null,
   "metadata": {},
   "outputs": [],
   "source": [
    "# visualise results in a bar chart \n"
   ]
  },
  {
   "cell_type": "markdown",
   "metadata": {},
   "source": [
    "### Question 2: What is my average sales for the top 10 Product Categories? "
   ]
  },
  {
   "cell_type": "code",
   "execution_count": null,
   "metadata": {},
   "outputs": [],
   "source": [
    "# calculate average sales by product category \n"
   ]
  },
  {
   "cell_type": "code",
   "execution_count": null,
   "metadata": {},
   "outputs": [],
   "source": [
    "# visualise results in a bar chart \n"
   ]
  }
 ],
 "metadata": {
  "interpreter": {
   "hash": "737dee95f12251952d689b173c016b638423f6644d23ceedebaa683681f8eb4f"
  },
  "kernelspec": {
   "display_name": "Python 3.8.11 64-bit ('data101': conda)",
   "name": "python3"
  },
  "language_info": {
   "codemirror_mode": {
    "name": "ipython",
    "version": 3
   },
   "file_extension": ".py",
   "mimetype": "text/x-python",
   "name": "python",
   "nbconvert_exporter": "python",
   "pygments_lexer": "ipython3",
   "version": "3.8.11"
  },
  "orig_nbformat": 4
 },
 "nbformat": 4,
 "nbformat_minor": 2
}
