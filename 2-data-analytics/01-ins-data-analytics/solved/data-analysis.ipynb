{
 "cells": [
  {
   "cell_type": "markdown",
   "metadata": {},
   "source": [
    "# Import libraries \n",
    "\n",
    "As a data analyst, you would typically use libraries such as: \n",
    "- `pandas` : used to read data into a structured tabular format known as a `DataFrame`. It supports reading data from files, databases and APIs. It allows for operations to be performed on the `DataFrame` before then being written out to another file or database. \n",
    "- `matplotlib` : used to send create visualisations.  \n",
    "- And much more..! Depending on what you need to do. \n",
    "\n",
    "Go ahead an import these popular libraries into your notebook by running\n",
    "\n",
    "```python\n",
    "import pandas as pd  \n",
    "import matplotlib.pyplot as plt \n",
    "```\n",
    "\n",
    "If these libraries do not exist on your computer, you would see a `Module Not Found` error. In that case, go ahead and install these libraries by running: \n",
    "\n",
    "```\n",
    "pip install pandas \n",
    "pip install matplotlib\n",
    "```\n"
   ]
  },
  {
   "cell_type": "code",
   "execution_count": 2,
   "metadata": {},
   "outputs": [],
   "source": [
    "import pandas as pd  \n",
    "import matplotlib.pyplot as plt "
   ]
  },
  {
   "cell_type": "markdown",
   "metadata": {},
   "source": [
    "# Reading in data\n",
    "\n",
    "As a Data Analyst, you would work closely with the Data Engineer to have the data pulled in from various sources to speed up your ability to answer business questions. \n",
    "\n",
    "For this instructor demo, let's assume that a Data Engineer has prepared a dataset for you (as per the previous exercises we did), and the dataset is stored in `../resources/final_superstore.csv`. \n",
    "\n",
    "We can read in the data using: \n",
    "```python\n",
    "pd.read_csv(\"file_path_here\")\n",
    "```"
   ]
  },
  {
   "cell_type": "code",
   "execution_count": 3,
   "metadata": {},
   "outputs": [
    {
     "data": {
      "text/html": [
       "<div>\n",
       "<style scoped>\n",
       "    .dataframe tbody tr th:only-of-type {\n",
       "        vertical-align: middle;\n",
       "    }\n",
       "\n",
       "    .dataframe tbody tr th {\n",
       "        vertical-align: top;\n",
       "    }\n",
       "\n",
       "    .dataframe thead th {\n",
       "        text-align: right;\n",
       "    }\n",
       "</style>\n",
       "<table border=\"1\" class=\"dataframe\">\n",
       "  <thead>\n",
       "    <tr style=\"text-align: right;\">\n",
       "      <th></th>\n",
       "      <th>customer_id</th>\n",
       "      <th>customer_city</th>\n",
       "      <th>customer_state</th>\n",
       "      <th>price</th>\n",
       "      <th>freight_value</th>\n",
       "      <th>product_category_name_english</th>\n",
       "      <th>total_value</th>\n",
       "    </tr>\n",
       "  </thead>\n",
       "  <tbody>\n",
       "    <tr>\n",
       "      <th>0</th>\n",
       "      <td>06b8999e2fba1a1fbc88172c00ba8bc7</td>\n",
       "      <td>franca</td>\n",
       "      <td>SP</td>\n",
       "      <td>124.99</td>\n",
       "      <td>21.88</td>\n",
       "      <td>office_furniture</td>\n",
       "      <td>146.87</td>\n",
       "    </tr>\n",
       "    <tr>\n",
       "      <th>1</th>\n",
       "      <td>8912fc0c3bbf1e2fbf35819e21706718</td>\n",
       "      <td>santarem</td>\n",
       "      <td>PA</td>\n",
       "      <td>112.99</td>\n",
       "      <td>24.90</td>\n",
       "      <td>office_furniture</td>\n",
       "      <td>137.89</td>\n",
       "    </tr>\n",
       "    <tr>\n",
       "      <th>2</th>\n",
       "      <td>8912fc0c3bbf1e2fbf35819e21706718</td>\n",
       "      <td>santarem</td>\n",
       "      <td>PA</td>\n",
       "      <td>112.99</td>\n",
       "      <td>24.90</td>\n",
       "      <td>office_furniture</td>\n",
       "      <td>137.89</td>\n",
       "    </tr>\n",
       "    <tr>\n",
       "      <th>3</th>\n",
       "      <td>f0ac8e5a239118859b1734e1087cbb1f</td>\n",
       "      <td>nova santa rita</td>\n",
       "      <td>RS</td>\n",
       "      <td>124.99</td>\n",
       "      <td>15.62</td>\n",
       "      <td>office_furniture</td>\n",
       "      <td>140.61</td>\n",
       "    </tr>\n",
       "    <tr>\n",
       "      <th>4</th>\n",
       "      <td>6bc8d08963a135220ed6c6d098831f84</td>\n",
       "      <td>mage</td>\n",
       "      <td>RJ</td>\n",
       "      <td>106.99</td>\n",
       "      <td>30.59</td>\n",
       "      <td>office_furniture</td>\n",
       "      <td>137.58</td>\n",
       "    </tr>\n",
       "  </tbody>\n",
       "</table>\n",
       "</div>"
      ],
      "text/plain": [
       "                        customer_id    customer_city customer_state   price  \\\n",
       "0  06b8999e2fba1a1fbc88172c00ba8bc7           franca             SP  124.99   \n",
       "1  8912fc0c3bbf1e2fbf35819e21706718         santarem             PA  112.99   \n",
       "2  8912fc0c3bbf1e2fbf35819e21706718         santarem             PA  112.99   \n",
       "3  f0ac8e5a239118859b1734e1087cbb1f  nova santa rita             RS  124.99   \n",
       "4  6bc8d08963a135220ed6c6d098831f84             mage             RJ  106.99   \n",
       "\n",
       "   freight_value product_category_name_english  total_value  \n",
       "0          21.88              office_furniture       146.87  \n",
       "1          24.90              office_furniture       137.89  \n",
       "2          24.90              office_furniture       137.89  \n",
       "3          15.62              office_furniture       140.61  \n",
       "4          30.59              office_furniture       137.58  "
      ]
     },
     "execution_count": 3,
     "metadata": {},
     "output_type": "execute_result"
    }
   ],
   "source": [
    "df = pd.read_csv(\"../resources/final_superstore.csv\")\n",
    "df.head()"
   ]
  },
  {
   "cell_type": "markdown",
   "metadata": {},
   "source": [
    "# Answer Questions \n",
    "\n",
    "As a Data Analyst, your role is to work closely with the business to use data to answer their questions. Using data to inform decisions is incredibly powerful to a business. Without it, decision makers are left to make decisions in the dark or using their gut-feel which can be misleading. \n",
    "\n",
    "The CFO of GlobalSuperStore has asked us to provide answers on the following questions: \n",
    "- What is my total sales for the top 10 State? \n",
    "- What is my average sales for the top 10 Product Categories? \n",
    "\n",
    "To answer those questions, we can use two types of functions in Pandas: \n",
    "- **group by functions**: used to group data based on categories. \n",
    "    - use: `df.groupby()`\n",
    "- **aggregation functions**: used to perform calculations on values based on the groupings. \n",
    "    - you can use: \n",
    "        - `count()`: to count rows for each group \n",
    "        - `sum()`: to sum all values for each group \n",
    "        - `mean()`: to calculate the average for each group \n",
    "        - `min()`: to calculate the minimum for each group \n",
    "        - `max()`: to calculate the maximum for each group \n",
    "\n",
    "The group by and aggregation functions **must** be used together. "
   ]
  },
  {
   "cell_type": "markdown",
   "metadata": {},
   "source": [
    "### Question 1: What is my total sales the top 10 States? "
   ]
  },
  {
   "cell_type": "code",
   "execution_count": 4,
   "metadata": {},
   "outputs": [
    {
     "data": {
      "text/html": [
       "<div>\n",
       "<style scoped>\n",
       "    .dataframe tbody tr th:only-of-type {\n",
       "        vertical-align: middle;\n",
       "    }\n",
       "\n",
       "    .dataframe tbody tr th {\n",
       "        vertical-align: top;\n",
       "    }\n",
       "\n",
       "    .dataframe thead th {\n",
       "        text-align: right;\n",
       "    }\n",
       "</style>\n",
       "<table border=\"1\" class=\"dataframe\">\n",
       "  <thead>\n",
       "    <tr style=\"text-align: right;\">\n",
       "      <th></th>\n",
       "      <th>customer_state</th>\n",
       "      <th>total_value</th>\n",
       "    </tr>\n",
       "  </thead>\n",
       "  <tbody>\n",
       "    <tr>\n",
       "      <th>25</th>\n",
       "      <td>SP</td>\n",
       "      <td>5844112.71</td>\n",
       "    </tr>\n",
       "    <tr>\n",
       "      <th>18</th>\n",
       "      <td>RJ</td>\n",
       "      <td>2101458.24</td>\n",
       "    </tr>\n",
       "    <tr>\n",
       "      <th>10</th>\n",
       "      <td>MG</td>\n",
       "      <td>1833390.70</td>\n",
       "    </tr>\n",
       "    <tr>\n",
       "      <th>22</th>\n",
       "      <td>RS</td>\n",
       "      <td>874054.89</td>\n",
       "    </tr>\n",
       "    <tr>\n",
       "      <th>17</th>\n",
       "      <td>PR</td>\n",
       "      <td>791092.53</td>\n",
       "    </tr>\n",
       "    <tr>\n",
       "      <th>4</th>\n",
       "      <td>BA</td>\n",
       "      <td>603533.81</td>\n",
       "    </tr>\n",
       "    <tr>\n",
       "      <th>23</th>\n",
       "      <td>SC</td>\n",
       "      <td>601842.26</td>\n",
       "    </tr>\n",
       "    <tr>\n",
       "      <th>6</th>\n",
       "      <td>DF</td>\n",
       "      <td>349973.26</td>\n",
       "    </tr>\n",
       "    <tr>\n",
       "      <th>8</th>\n",
       "      <td>GO</td>\n",
       "      <td>337971.15</td>\n",
       "    </tr>\n",
       "    <tr>\n",
       "      <th>7</th>\n",
       "      <td>ES</td>\n",
       "      <td>322897.18</td>\n",
       "    </tr>\n",
       "  </tbody>\n",
       "</table>\n",
       "</div>"
      ],
      "text/plain": [
       "   customer_state  total_value\n",
       "25             SP   5844112.71\n",
       "18             RJ   2101458.24\n",
       "10             MG   1833390.70\n",
       "22             RS    874054.89\n",
       "17             PR    791092.53\n",
       "4              BA    603533.81\n",
       "23             SC    601842.26\n",
       "6              DF    349973.26\n",
       "8              GO    337971.15\n",
       "7              ES    322897.18"
      ]
     },
     "execution_count": 4,
     "metadata": {},
     "output_type": "execute_result"
    }
   ],
   "source": [
    "# calculate total sales by state \n",
    "df_sum_by_state = df.groupby([\"customer_state\"]).sum().reset_index()\n",
    "total_sales_by_state_df = df_sum_by_state[[\"customer_state\", \"total_value\"]].sort_values([\"total_value\"], ascending=False) # total sales for each state in descending order\n",
    "total_sales_by_state_df = total_sales_by_state_df.head(10) # select top 10\n",
    "total_sales_by_state_df"
   ]
  },
  {
   "cell_type": "code",
   "execution_count": 5,
   "metadata": {},
   "outputs": [
    {
     "data": {
      "image/png": "[encoded data removed]",
      "text/plain": [
       "<Figure size 432x288 with 1 Axes>"
      ]
     },
     "metadata": {
      "needs_background": "light"
     },
     "output_type": "display_data"
    }
   ],
   "source": [
    "# visualise results in a bar chart \n",
    "plt.bar(\n",
    "    x=total_sales_by_state_df[\"customer_state\"],\n",
    "    height=total_sales_by_state_df[\"total_value\"]\n",
    ") \n",
    "plt.title(\"Sales by State\") # add chart title \n",
    "plt.xlabel(\"State\") # add x-axis label \n",
    "plt.ylabel(\"Sales\") # add y-axis label \n",
    "plt.savefig(\"sales_by_state.png\") # save figure to a png file, so that it can be used in presentations \n",
    "plt.show() # dispaly the figure "
   ]
  },
  {
   "cell_type": "markdown",
   "metadata": {},
   "source": [
    "### Question 2: What is my average sales for the top 10 Product Categories? "
   ]
  },
  {
   "cell_type": "code",
   "execution_count": 6,
   "metadata": {},
   "outputs": [
    {
     "data": {
      "text/html": [
       "<div>\n",
       "<style scoped>\n",
       "    .dataframe tbody tr th:only-of-type {\n",
       "        vertical-align: middle;\n",
       "    }\n",
       "\n",
       "    .dataframe tbody tr th {\n",
       "        vertical-align: top;\n",
       "    }\n",
       "\n",
       "    .dataframe thead th {\n",
       "        text-align: right;\n",
       "    }\n",
       "</style>\n",
       "<table border=\"1\" class=\"dataframe\">\n",
       "  <thead>\n",
       "    <tr style=\"text-align: right;\">\n",
       "      <th></th>\n",
       "      <th>product_category_name_english</th>\n",
       "      <th>avg_value</th>\n",
       "    </tr>\n",
       "  </thead>\n",
       "  <tbody>\n",
       "    <tr>\n",
       "      <th>14</th>\n",
       "      <td>computers</td>\n",
       "      <td>1146.795222</td>\n",
       "    </tr>\n",
       "    <tr>\n",
       "      <th>64</th>\n",
       "      <td>small_appliances_home_oven_and_coffee</td>\n",
       "      <td>660.441711</td>\n",
       "    </tr>\n",
       "    <tr>\n",
       "      <th>45</th>\n",
       "      <td>home_appliances_2</td>\n",
       "      <td>520.663529</td>\n",
       "    </tr>\n",
       "    <tr>\n",
       "      <th>0</th>\n",
       "      <td>agro_industry_and_commerce</td>\n",
       "      <td>369.689009</td>\n",
       "    </tr>\n",
       "    <tr>\n",
       "      <th>56</th>\n",
       "      <td>musical_instruments</td>\n",
       "      <td>309.025544</td>\n",
       "    </tr>\n",
       "    <tr>\n",
       "      <th>63</th>\n",
       "      <td>small_appliances</td>\n",
       "      <td>304.372356</td>\n",
       "    </tr>\n",
       "    <tr>\n",
       "      <th>34</th>\n",
       "      <td>fixed_telephony</td>\n",
       "      <td>243.260644</td>\n",
       "    </tr>\n",
       "    <tr>\n",
       "      <th>19</th>\n",
       "      <td>construction_tools_safety</td>\n",
       "      <td>229.193918</td>\n",
       "    </tr>\n",
       "    <tr>\n",
       "      <th>38</th>\n",
       "      <td>furniture_bedroom</td>\n",
       "      <td>226.247798</td>\n",
       "    </tr>\n",
       "    <tr>\n",
       "      <th>70</th>\n",
       "      <td>watches_gifts</td>\n",
       "      <td>217.917144</td>\n",
       "    </tr>\n",
       "  </tbody>\n",
       "</table>\n",
       "</div>"
      ],
      "text/plain": [
       "            product_category_name_english    avg_value\n",
       "14                              computers  1146.795222\n",
       "64  small_appliances_home_oven_and_coffee   660.441711\n",
       "45                      home_appliances_2   520.663529\n",
       "0              agro_industry_and_commerce   369.689009\n",
       "56                    musical_instruments   309.025544\n",
       "63                       small_appliances   304.372356\n",
       "34                        fixed_telephony   243.260644\n",
       "19              construction_tools_safety   229.193918\n",
       "38                      furniture_bedroom   226.247798\n",
       "70                          watches_gifts   217.917144"
      ]
     },
     "execution_count": 6,
     "metadata": {},
     "output_type": "execute_result"
    }
   ],
   "source": [
    "# calculate average sales by product category \n",
    "df_avg_by_category_df = df.groupby([\"product_category_name_english\"]).mean().reset_index()\n",
    "avg_sales_by_category_df = df_avg_by_category_df[[\"product_category_name_english\", \"total_value\"]].sort_values([\"total_value\"], ascending=False) # avg sales for each product category in descending order\n",
    "avg_sales_by_category_df = avg_sales_by_category_df.rename(columns={\"total_value\": \"avg_value\"})\n",
    "avg_sales_by_category_df = avg_sales_by_category_df.head(10)\n",
    "avg_sales_by_category_df"
   ]
  },
  {
   "cell_type": "code",
   "execution_count": 19,
   "metadata": {},
   "outputs": [
    {
     "data": {
      "image/png": "[encoded data removed]",
      "text/plain": [
       "<Figure size 720x720 with 1 Axes>"
      ]
     },
     "metadata": {
      "needs_background": "light"
     },
     "output_type": "display_data"
    }
   ],
   "source": [
    "# visualise results in a bar chart \n",
    "plt.bar(\n",
    "    x=avg_sales_by_category_df[\"product_category_name_english\"],\n",
    "    height=avg_sales_by_category_df[\"avg_value\"]\n",
    ")  \n",
    "plt.title(\"Average Sales by Product Category\") # add chart title \n",
    "plt.xlabel(\"Product Category\") # add x-axis label\n",
    "plt.xticks(rotation=90)  # rotate x-ticks 90 degrees for readability \n",
    "plt.ylabel(\"Average Sales Sales\") # add y-axis label \n",
    "plt.savefig(\"avg_sales_by_category.png\") # save figure to a png file, so that it can be used in presentations \n",
    "plt.show() # display the figure "
   ]
  }
 ],
 "metadata": {
  "interpreter": {
   "hash": "737dee95f12251952d689b173c016b638423f6644d23ceedebaa683681f8eb4f"
  },
  "kernelspec": {
   "display_name": "Python 3.8.11 64-bit ('data101': conda)",
   "name": "python3"
  },
  "language_info": {
   "codemirror_mode": {
    "name": "ipython",
    "version": 3
   },
   "file_extension": ".py",
   "mimetype": "text/x-python",
   "name": "python",
   "nbconvert_exporter": "python",
   "pygments_lexer": "ipython3",
   "version": "3.8.11"
  },
  "orig_nbformat": 4
 },
 "nbformat": 4,
 "nbformat_minor": 2
}
