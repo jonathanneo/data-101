{
 "cells": [
  {
   "cell_type": "markdown",
   "metadata": {},
   "source": [
    "# Import libraries \n",
    "\n",
    "As a data scientist, you would typically use libraries such as: \n",
    "- `pandas` : used to read data into a structured tabular format known as a `DataFrame`. It supports reading data from files, databases and APIs. It allows for operations to be performed on the `DataFrame` before then being written out to another file or database. \n",
    "- `statsmodels` : used to train a model and perform forecasting. \n",
    "- `scikit-learn` : used to train a model and perform forecasting.  \n",
    "- And much more..! Depending on what you need to do. \n",
    "\n",
    "Go ahead an import these popular libraries into your notebook by running\n",
    "\n",
    "```python\n",
    "import pandas as pd  \n",
    "import statsmodels.api as sm\n",
    "import matplotlib.pyplot as plt\n",
    "```\n",
    "\n",
    "If these libraries do not exist on your computer, you would see a `Module Not Found` error. In that case, go ahead and install these libraries by running: \n",
    "\n",
    "```\n",
    "pip install pandas \n",
    "pip install statsmodels\n",
    "pip install matplotlib\n",
    "```\n"
   ]
  },
  {
   "cell_type": "code",
   "execution_count": null,
   "metadata": {},
   "outputs": [],
   "source": []
  },
  {
   "cell_type": "markdown",
   "metadata": {},
   "source": [
    "# Reading in data\n",
    "\n",
    "Let's assume that a Data Engineer has prepared a dataset for you (as per the previous exercises we did), and the dataset is stored in `../resources/superstore.csv`. \n",
    "\n",
    "We can read in the data using: \n",
    "```python\n",
    "pd.read_csv(\"file_path_here\")\n",
    "```"
   ]
  },
  {
   "cell_type": "code",
   "execution_count": null,
   "metadata": {},
   "outputs": [],
   "source": []
  },
  {
   "cell_type": "markdown",
   "metadata": {},
   "source": [
    "# Feature engineering\n",
    "\n",
    "As a Data Scientist, you would often have to generate new features (columns) from existing data. \n",
    "\n",
    "These new features are used in the building of a machine learning model. \n",
    "\n",
    "Create a new date column (feature) so that it can be used in a time series forecasting model. "
   ]
  },
  {
   "cell_type": "code",
   "execution_count": null,
   "metadata": {},
   "outputs": [],
   "source": []
  },
  {
   "cell_type": "markdown",
   "metadata": {},
   "source": [
    "Prepare your dataset to be used in a time series forecasting model by grouping your data by `order_date` and summing up `Total Sales`.  "
   ]
  },
  {
   "cell_type": "code",
   "execution_count": null,
   "metadata": {},
   "outputs": [],
   "source": []
  },
  {
   "cell_type": "markdown",
   "metadata": {},
   "source": [
    "# Train model \n",
    "\n",
    "\n",
    "Use use SARIMAX, a time series forecasting method. \n",
    "\n",
    "```python\n",
    "model = sm.tsa.statespace.SARIMAX(df,order=(1, 0, 0), seasonal_order=(1, 1, 1, 12))\n",
    "```\n",
    "\n",
    "Where: \n",
    "- `df`: your DataFrame with the date set as the index and a column for the values \n",
    "- `order`: the (p,d,q) order of the model. \n",
    "- `seasonal_order`: the (P,D,Q,s) order of the seasonal component of the model "
   ]
  },
  {
   "cell_type": "code",
   "execution_count": null,
   "metadata": {},
   "outputs": [],
   "source": [
    "# fit a time series model \n"
   ]
  },
  {
   "cell_type": "markdown",
   "metadata": {},
   "source": [
    "# Perform prediction\n",
    "\n",
    "Taking the trained model, you can now perform predictions against data it has seen before to see what the model would've predicted. "
   ]
  },
  {
   "cell_type": "code",
   "execution_count": null,
   "metadata": {},
   "outputs": [],
   "source": []
  },
  {
   "cell_type": "markdown",
   "metadata": {},
   "source": [
    "# Perform forecast \n",
    "\n",
    "Taking the trained model, you can now perform forecasts for data the model has not seen before (also known as an out-of-sample forecast). "
   ]
  },
  {
   "cell_type": "code",
   "execution_count": null,
   "metadata": {},
   "outputs": [],
   "source": []
  },
  {
   "cell_type": "code",
   "execution_count": null,
   "metadata": {},
   "outputs": [],
   "source": [
    "# forecast 30 days from the last recorded date in the dataset \n"
   ]
  }
 ],
 "metadata": {
  "interpreter": {
   "hash": "737dee95f12251952d689b173c016b638423f6644d23ceedebaa683681f8eb4f"
  },
  "kernelspec": {
   "display_name": "Python 3.8.11 64-bit ('data101': conda)",
   "name": "python3"
  },
  "language_info": {
   "codemirror_mode": {
    "name": "ipython",
    "version": 3
   },
   "file_extension": ".py",
   "mimetype": "text/x-python",
   "name": "python",
   "nbconvert_exporter": "python",
   "pygments_lexer": "ipython3",
   "version": "3.8.11"
  },
  "orig_nbformat": 4
 },
 "nbformat": 4,
 "nbformat_minor": 2
}
