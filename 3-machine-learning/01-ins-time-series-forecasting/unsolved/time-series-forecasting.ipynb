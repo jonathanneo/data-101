{
 "cells": [
  {
   "cell_type": "markdown",
   "metadata": {},
   "source": [
    "# Import libraries \n",
    "\n",
    "As a data scientist, you would typically use libraries such as: \n",
    "- `pandas` : used to read data into a structured tabular format known as a `DataFrame`. It supports reading data from files, databases and APIs. It allows for operations to be performed on the `DataFrame` before then being written out to another file or database. \n",
    "- `statsmodels` : used to train a model and perform forecasting. \n",
    "- `scikit-learn` : used to train a model and perform forecasting.  \n",
    "- And much more..! Depending on what you need to do. \n",
    "\n",
    "Go ahead an import these popular libraries into your notebook by running\n",
    "\n",
    "```python\n",
    "import pandas as pd  \n",
    "import statsmodels.api as sm\n",
    "import matplotlib.pyplot as plt\n",
    "```\n",
    "\n",
    "If these libraries do not exist on your computer, you would see a `Module Not Found` error. In that case, go ahead and install these libraries by running: \n",
    "\n",
    "```\n",
    "pip install pandas \n",
    "pip install statsmodels\n",
    "pip install matplotlib\n",
    "```\n"
   ]
  },
  {
   "cell_type": "code",
   "execution_count": null,
   "metadata": {},
   "outputs": [],
   "source": []
  },
  {
   "cell_type": "markdown",
   "metadata": {},
   "source": [
    "# Reading in data\n",
    "\n",
    "As a Data Scientist, you would work closely with the Data Engineer to have the data pulled in from various sources to speed up your ability to create machine learning models. \n",
    "\n",
    "For this instructor demo, let's assume that a Data Engineer has prepared a dataset for you (as per the previous exercises we did), and the dataset is stored in `../resources/final_superstore.csv`. \n",
    "\n",
    "We can read in the data using: \n",
    "```python\n",
    "pd.read_csv(\"file_path_here\")\n",
    "```"
   ]
  },
  {
   "cell_type": "code",
   "execution_count": null,
   "metadata": {},
   "outputs": [],
   "source": []
  },
  {
   "cell_type": "markdown",
   "metadata": {},
   "source": [
    "# Feature engineering\n",
    "\n",
    "As a Data Scientist, you would often have to generate new features (columns) from existing data. \n",
    "\n",
    "These new features are used in the building of a machine learning model. \n",
    "\n",
    "Create a new date column (feature) so that it can be used in a time series forecasting model. "
   ]
  },
  {
   "cell_type": "code",
   "execution_count": null,
   "metadata": {},
   "outputs": [],
   "source": []
  },
  {
   "cell_type": "markdown",
   "metadata": {},
   "source": [
    "Prepare your dataset to be used in a time series forecasting model by grouping your data by `order_date` and summing up `total_value`.  "
   ]
  },
  {
   "cell_type": "code",
   "execution_count": null,
   "metadata": {},
   "outputs": [],
   "source": []
  },
  {
   "cell_type": "markdown",
   "metadata": {},
   "source": [
    "# Train model \n",
    "\n",
    "As a Data Scientist, your role is to build a model that would answer a forwards-looking business question. \n",
    "\n",
    "For example: \"How much revenue can I expect to generate in the next 3 months?\" \n",
    "\n",
    "Depending on the question you are trying to answer, you will select different types of models. \n",
    "\n",
    "In this example, you will use SARIMAX, a time series forecasting method. \n",
    "\n",
    "```python\n",
    "model = sm.tsa.statespace.SARIMAX(df,order=(1, 0, 0), seasonal_order=(1, 1, 1, 12))\n",
    "```\n",
    "\n",
    "Where: \n",
    "- `df`: your DataFrame with the date set as the index and a column for the values \n",
    "- `order`: the (p,d,q) order of the model. \n",
    "- `seasonal_order`: the (P,D,Q,s) order of the seasonal component of the model "
   ]
  },
  {
   "cell_type": "code",
   "execution_count": null,
   "metadata": {},
   "outputs": [],
   "source": [
    "# fit a time series model \n"
   ]
  },
  {
   "cell_type": "markdown",
   "metadata": {},
   "source": [
    "# Perform prediction\n",
    "\n",
    "Taking the trained model, you can now perform predictions that look forward into the future. "
   ]
  },
  {
   "cell_type": "code",
   "execution_count": null,
   "metadata": {},
   "outputs": [],
   "source": []
  }
 ],
 "metadata": {
  "interpreter": {
   "hash": "737dee95f12251952d689b173c016b638423f6644d23ceedebaa683681f8eb4f"
  },
  "kernelspec": {
   "display_name": "Python 3.8.11 64-bit ('data101': conda)",
   "name": "python3"
  },
  "language_info": {
   "codemirror_mode": {
    "name": "ipython",
    "version": 3
   },
   "file_extension": ".py",
   "mimetype": "text/x-python",
   "name": "python",
   "nbconvert_exporter": "python",
   "pygments_lexer": "ipython3",
   "version": "3.8.11"
  },
  "orig_nbformat": 4
 },
 "nbformat": 4,
 "nbformat_minor": 2
}
