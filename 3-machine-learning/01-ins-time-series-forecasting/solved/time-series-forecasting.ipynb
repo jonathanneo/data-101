{
 "cells": [
  {
   "cell_type": "markdown",
   "metadata": {},
   "source": [
    "# Import libraries \n",
    "\n",
    "As a data scientist, you would typically use libraries such as: \n",
    "- `pandas` : used to read data into a structured tabular format known as a `DataFrame`. It supports reading data from files, databases and APIs. It allows for operations to be performed on the `DataFrame` before then being written out to another file or database. \n",
    "- `statsmodels` : used to train a model and perform forecasting. \n",
    "- `scikit-learn` : used to train a model and perform forecasting.  \n",
    "- And much more..! Depending on what you need to do. \n",
    "\n",
    "Go ahead an import these popular libraries into your notebook by running\n",
    "\n",
    "```python\n",
    "import pandas as pd  \n",
    "import statsmodels.api as sm\n",
    "import matplotlib.pyplot as plt\n",
    "```\n",
    "\n",
    "If these libraries do not exist on your computer, you would see a `Module Not Found` error. In that case, go ahead and install these libraries by running: \n",
    "\n",
    "```\n",
    "pip install pandas \n",
    "pip install statsmodels\n",
    "pip install matplotlib\n",
    "```\n"
   ]
  },
  {
   "cell_type": "code",
   "execution_count": 21,
   "metadata": {},
   "outputs": [],
   "source": [
    "import pandas as pd\n",
    "import statsmodels.api as sm\n",
    "import matplotlib.pyplot as plt"
   ]
  },
  {
   "cell_type": "markdown",
   "metadata": {},
   "source": [
    "# Reading in data\n",
    "\n",
    "As a Data Scientist, you would work closely with the Data Engineer to have the data pulled in from various sources to speed up your ability to create machine learning models. \n",
    "\n",
    "For this instructor demo, let's assume that a Data Engineer has prepared a dataset for you (as per the previous exercises we did), and the dataset is stored in `../resources/final_superstore.csv`. \n",
    "\n",
    "We can read in the data using: \n",
    "```python\n",
    "pd.read_csv(\"file_path_here\")\n",
    "```"
   ]
  },
  {
   "cell_type": "code",
   "execution_count": 3,
   "metadata": {},
   "outputs": [
    {
     "data": {
      "text/html": [
       "<div>\n",
       "<style scoped>\n",
       "    .dataframe tbody tr th:only-of-type {\n",
       "        vertical-align: middle;\n",
       "    }\n",
       "\n",
       "    .dataframe tbody tr th {\n",
       "        vertical-align: top;\n",
       "    }\n",
       "\n",
       "    .dataframe thead th {\n",
       "        text-align: right;\n",
       "    }\n",
       "</style>\n",
       "<table border=\"1\" class=\"dataframe\">\n",
       "  <thead>\n",
       "    <tr style=\"text-align: right;\">\n",
       "      <th></th>\n",
       "      <th>customer_id</th>\n",
       "      <th>customer_city</th>\n",
       "      <th>customer_state</th>\n",
       "      <th>order_purchase_timestamp</th>\n",
       "      <th>price</th>\n",
       "      <th>freight_value</th>\n",
       "      <th>product_category_name_english</th>\n",
       "      <th>total_value</th>\n",
       "    </tr>\n",
       "  </thead>\n",
       "  <tbody>\n",
       "    <tr>\n",
       "      <th>0</th>\n",
       "      <td>06b8999e2fba1a1fbc88172c00ba8bc7</td>\n",
       "      <td>franca</td>\n",
       "      <td>SP</td>\n",
       "      <td>2017-05-16 15:05:35</td>\n",
       "      <td>124.99</td>\n",
       "      <td>21.88</td>\n",
       "      <td>office_furniture</td>\n",
       "      <td>146.87</td>\n",
       "    </tr>\n",
       "    <tr>\n",
       "      <th>1</th>\n",
       "      <td>8912fc0c3bbf1e2fbf35819e21706718</td>\n",
       "      <td>santarem</td>\n",
       "      <td>PA</td>\n",
       "      <td>2017-11-09 00:50:13</td>\n",
       "      <td>112.99</td>\n",
       "      <td>24.90</td>\n",
       "      <td>office_furniture</td>\n",
       "      <td>137.89</td>\n",
       "    </tr>\n",
       "    <tr>\n",
       "      <th>2</th>\n",
       "      <td>8912fc0c3bbf1e2fbf35819e21706718</td>\n",
       "      <td>santarem</td>\n",
       "      <td>PA</td>\n",
       "      <td>2017-11-09 00:50:13</td>\n",
       "      <td>112.99</td>\n",
       "      <td>24.90</td>\n",
       "      <td>office_furniture</td>\n",
       "      <td>137.89</td>\n",
       "    </tr>\n",
       "    <tr>\n",
       "      <th>3</th>\n",
       "      <td>f0ac8e5a239118859b1734e1087cbb1f</td>\n",
       "      <td>nova santa rita</td>\n",
       "      <td>RS</td>\n",
       "      <td>2017-05-07 20:11:26</td>\n",
       "      <td>124.99</td>\n",
       "      <td>15.62</td>\n",
       "      <td>office_furniture</td>\n",
       "      <td>140.61</td>\n",
       "    </tr>\n",
       "    <tr>\n",
       "      <th>4</th>\n",
       "      <td>6bc8d08963a135220ed6c6d098831f84</td>\n",
       "      <td>mage</td>\n",
       "      <td>RJ</td>\n",
       "      <td>2018-02-03 19:45:40</td>\n",
       "      <td>106.99</td>\n",
       "      <td>30.59</td>\n",
       "      <td>office_furniture</td>\n",
       "      <td>137.58</td>\n",
       "    </tr>\n",
       "  </tbody>\n",
       "</table>\n",
       "</div>"
      ],
      "text/plain": [
       "                        customer_id    customer_city customer_state  \\\n",
       "0  06b8999e2fba1a1fbc88172c00ba8bc7           franca             SP   \n",
       "1  8912fc0c3bbf1e2fbf35819e21706718         santarem             PA   \n",
       "2  8912fc0c3bbf1e2fbf35819e21706718         santarem             PA   \n",
       "3  f0ac8e5a239118859b1734e1087cbb1f  nova santa rita             RS   \n",
       "4  6bc8d08963a135220ed6c6d098831f84             mage             RJ   \n",
       "\n",
       "  order_purchase_timestamp   price  freight_value  \\\n",
       "0      2017-05-16 15:05:35  124.99          21.88   \n",
       "1      2017-11-09 00:50:13  112.99          24.90   \n",
       "2      2017-11-09 00:50:13  112.99          24.90   \n",
       "3      2017-05-07 20:11:26  124.99          15.62   \n",
       "4      2018-02-03 19:45:40  106.99          30.59   \n",
       "\n",
       "  product_category_name_english  total_value  \n",
       "0              office_furniture       146.87  \n",
       "1              office_furniture       137.89  \n",
       "2              office_furniture       137.89  \n",
       "3              office_furniture       140.61  \n",
       "4              office_furniture       137.58  "
      ]
     },
     "execution_count": 3,
     "metadata": {},
     "output_type": "execute_result"
    }
   ],
   "source": [
    "df = pd.read_csv(\"../resources/final_superstore.csv\")\n",
    "df.head()"
   ]
  },
  {
   "cell_type": "markdown",
   "metadata": {},
   "source": [
    "# Feature engineering\n",
    "\n",
    "As a Data Scientist, you would often have to generate new features (columns) from existing data. \n",
    "\n",
    "These new features are used in the building of a machine learning model. \n",
    "\n",
    "Create a new date column (feature) so that it can be used in a time series forecasting model. "
   ]
  },
  {
   "cell_type": "code",
   "execution_count": 50,
   "metadata": {},
   "outputs": [
    {
     "data": {
      "text/html": [
       "<div>\n",
       "<style scoped>\n",
       "    .dataframe tbody tr th:only-of-type {\n",
       "        vertical-align: middle;\n",
       "    }\n",
       "\n",
       "    .dataframe tbody tr th {\n",
       "        vertical-align: top;\n",
       "    }\n",
       "\n",
       "    .dataframe thead th {\n",
       "        text-align: right;\n",
       "    }\n",
       "</style>\n",
       "<table border=\"1\" class=\"dataframe\">\n",
       "  <thead>\n",
       "    <tr style=\"text-align: right;\">\n",
       "      <th></th>\n",
       "      <th>customer_id</th>\n",
       "      <th>customer_city</th>\n",
       "      <th>customer_state</th>\n",
       "      <th>order_purchase_timestamp</th>\n",
       "      <th>price</th>\n",
       "      <th>freight_value</th>\n",
       "      <th>product_category_name_english</th>\n",
       "      <th>total_value</th>\n",
       "      <th>order_date</th>\n",
       "    </tr>\n",
       "  </thead>\n",
       "  <tbody>\n",
       "    <tr>\n",
       "      <th>0</th>\n",
       "      <td>06b8999e2fba1a1fbc88172c00ba8bc7</td>\n",
       "      <td>franca</td>\n",
       "      <td>SP</td>\n",
       "      <td>2017-05-16 15:05:35</td>\n",
       "      <td>124.99</td>\n",
       "      <td>21.88</td>\n",
       "      <td>office_furniture</td>\n",
       "      <td>146.87</td>\n",
       "      <td>2017-05-16</td>\n",
       "    </tr>\n",
       "    <tr>\n",
       "      <th>1</th>\n",
       "      <td>8912fc0c3bbf1e2fbf35819e21706718</td>\n",
       "      <td>santarem</td>\n",
       "      <td>PA</td>\n",
       "      <td>2017-11-09 00:50:13</td>\n",
       "      <td>112.99</td>\n",
       "      <td>24.90</td>\n",
       "      <td>office_furniture</td>\n",
       "      <td>137.89</td>\n",
       "      <td>2017-11-09</td>\n",
       "    </tr>\n",
       "    <tr>\n",
       "      <th>2</th>\n",
       "      <td>8912fc0c3bbf1e2fbf35819e21706718</td>\n",
       "      <td>santarem</td>\n",
       "      <td>PA</td>\n",
       "      <td>2017-11-09 00:50:13</td>\n",
       "      <td>112.99</td>\n",
       "      <td>24.90</td>\n",
       "      <td>office_furniture</td>\n",
       "      <td>137.89</td>\n",
       "      <td>2017-11-09</td>\n",
       "    </tr>\n",
       "    <tr>\n",
       "      <th>3</th>\n",
       "      <td>f0ac8e5a239118859b1734e1087cbb1f</td>\n",
       "      <td>nova santa rita</td>\n",
       "      <td>RS</td>\n",
       "      <td>2017-05-07 20:11:26</td>\n",
       "      <td>124.99</td>\n",
       "      <td>15.62</td>\n",
       "      <td>office_furniture</td>\n",
       "      <td>140.61</td>\n",
       "      <td>2017-05-07</td>\n",
       "    </tr>\n",
       "    <tr>\n",
       "      <th>4</th>\n",
       "      <td>6bc8d08963a135220ed6c6d098831f84</td>\n",
       "      <td>mage</td>\n",
       "      <td>RJ</td>\n",
       "      <td>2018-02-03 19:45:40</td>\n",
       "      <td>106.99</td>\n",
       "      <td>30.59</td>\n",
       "      <td>office_furniture</td>\n",
       "      <td>137.58</td>\n",
       "      <td>2018-02-03</td>\n",
       "    </tr>\n",
       "  </tbody>\n",
       "</table>\n",
       "</div>"
      ],
      "text/plain": [
       "                        customer_id    customer_city customer_state  \\\n",
       "0  06b8999e2fba1a1fbc88172c00ba8bc7           franca             SP   \n",
       "1  8912fc0c3bbf1e2fbf35819e21706718         santarem             PA   \n",
       "2  8912fc0c3bbf1e2fbf35819e21706718         santarem             PA   \n",
       "3  f0ac8e5a239118859b1734e1087cbb1f  nova santa rita             RS   \n",
       "4  6bc8d08963a135220ed6c6d098831f84             mage             RJ   \n",
       "\n",
       "  order_purchase_timestamp   price  freight_value  \\\n",
       "0      2017-05-16 15:05:35  124.99          21.88   \n",
       "1      2017-11-09 00:50:13  112.99          24.90   \n",
       "2      2017-11-09 00:50:13  112.99          24.90   \n",
       "3      2017-05-07 20:11:26  124.99          15.62   \n",
       "4      2018-02-03 19:45:40  106.99          30.59   \n",
       "\n",
       "  product_category_name_english  total_value  order_date  \n",
       "0              office_furniture       146.87  2017-05-16  \n",
       "1              office_furniture       137.89  2017-11-09  \n",
       "2              office_furniture       137.89  2017-11-09  \n",
       "3              office_furniture       140.61  2017-05-07  \n",
       "4              office_furniture       137.58  2018-02-03  "
      ]
     },
     "execution_count": 50,
     "metadata": {},
     "output_type": "execute_result"
    }
   ],
   "source": [
    "df[\"order_date\"] = pd.to_datetime(df[\"order_purchase_timestamp\"]).dt.date.astype(str)\n",
    "df.head()"
   ]
  },
  {
   "cell_type": "markdown",
   "metadata": {},
   "source": [
    "Prepare your dataset to be used in a time series forecasting model by grouping your data by `order_date` and summing up `total_value`.  "
   ]
  },
  {
   "cell_type": "code",
   "execution_count": 59,
   "metadata": {},
   "outputs": [
    {
     "data": {
      "text/html": [
       "<div>\n",
       "<style scoped>\n",
       "    .dataframe tbody tr th:only-of-type {\n",
       "        vertical-align: middle;\n",
       "    }\n",
       "\n",
       "    .dataframe tbody tr th {\n",
       "        vertical-align: top;\n",
       "    }\n",
       "\n",
       "    .dataframe thead th {\n",
       "        text-align: right;\n",
       "    }\n",
       "</style>\n",
       "<table border=\"1\" class=\"dataframe\">\n",
       "  <thead>\n",
       "    <tr style=\"text-align: right;\">\n",
       "      <th></th>\n",
       "      <th>total_value</th>\n",
       "    </tr>\n",
       "    <tr>\n",
       "      <th>order_date</th>\n",
       "      <th></th>\n",
       "    </tr>\n",
       "  </thead>\n",
       "  <tbody>\n",
       "    <tr>\n",
       "      <th>2016-09-04</th>\n",
       "      <td>136.23</td>\n",
       "    </tr>\n",
       "    <tr>\n",
       "      <th>2016-09-05</th>\n",
       "      <td>75.06</td>\n",
       "    </tr>\n",
       "    <tr>\n",
       "      <th>2016-09-15</th>\n",
       "      <td>143.46</td>\n",
       "    </tr>\n",
       "    <tr>\n",
       "      <th>2016-10-02</th>\n",
       "      <td>109.34</td>\n",
       "    </tr>\n",
       "    <tr>\n",
       "      <th>2016-10-03</th>\n",
       "      <td>595.14</td>\n",
       "    </tr>\n",
       "  </tbody>\n",
       "</table>\n",
       "</div>"
      ],
      "text/plain": [
       "            total_value\n",
       "order_date             \n",
       "2016-09-04       136.23\n",
       "2016-09-05        75.06\n",
       "2016-09-15       143.46\n",
       "2016-10-02       109.34\n",
       "2016-10-03       595.14"
      ]
     },
     "execution_count": 59,
     "metadata": {},
     "output_type": "execute_result"
    }
   ],
   "source": [
    "sales_df = pd.DataFrame(df.groupby(by=['order_date']).sum()['total_value'])\n",
    "sales_df.head()"
   ]
  },
  {
   "cell_type": "markdown",
   "metadata": {},
   "source": [
    "# Train model \n",
    "\n",
    "As a Data Scientist, your role is to build a model that would answer a forwards-looking business question. \n",
    "\n",
    "For example: \"How much revenue can I expect to generate in the next 3 months?\" \n",
    "\n",
    "Depending on the question you are trying to answer, you will select different types of models. \n",
    "\n",
    "In this example, you will use SARIMAX, a time series forecasting method. \n",
    "\n",
    "```python\n",
    "model = sm.tsa.statespace.SARIMAX(df,order=(1, 0, 0), seasonal_order=(1, 1, 1, 12))\n",
    "```\n",
    "\n",
    "Where: \n",
    "- `df`: your DataFrame with the date set as the index and a column for the values \n",
    "- `order`: the (p,d,q) order of the model. \n",
    "- `seasonal_order`: the (P,D,Q,s) order of the seasonal component of the model "
   ]
  },
  {
   "cell_type": "code",
   "execution_count": 60,
   "metadata": {},
   "outputs": [
    {
     "name": "stdout",
     "output_type": "stream",
     "text": [
      "RUNNING THE L-BFGS-B CODE\n",
      "\n",
      "           * * *\n",
      "\n",
      "Machine precision = 2.220D-16\n",
      " N =            4     M =           10\n",
      "\n",
      "At X0         0 variables are exactly at the bounds\n",
      "\n",
      "At iterate    0    f=  1.04701D+01    |proj g|=  9.15826D-02\n",
      "\n",
      "At iterate    5    f=  1.04352D+01    |proj g|=  1.11593D-03\n"
     ]
    },
    {
     "name": "stderr",
     "output_type": "stream",
     "text": [
      " This problem is unconstrained.\n"
     ]
    },
    {
     "name": "stdout",
     "output_type": "stream",
     "text": [
      "\n",
      "           * * *\n",
      "\n",
      "Tit   = total number of iterations\n",
      "Tnf   = total number of function evaluations\n",
      "Tnint = total number of segments explored during Cauchy searches\n",
      "Skip  = number of BFGS updates skipped\n",
      "Nact  = number of active bounds at final generalized Cauchy point\n",
      "Projg = norm of the final projected gradient\n",
      "F     = final function value\n",
      "\n",
      "           * * *\n",
      "\n",
      "   N    Tit     Tnf  Tnint  Skip  Nact     Projg        F\n",
      "    4      9     10      1     0     0   3.479D-05   1.044D+01\n",
      "  F =   10.435151415730264     \n",
      "\n",
      "CONVERGENCE: REL_REDUCTION_OF_F_<=_FACTR*EPSMCH             \n"
     ]
    }
   ],
   "source": [
    "# fit a time series model \n",
    "import warnings\n",
    "warnings.filterwarnings('ignore')\n",
    "\n",
    "model = sm.tsa.statespace.SARIMAX(sales_df,order=(1, 0, 0), seasonal_order=(1, 1, 1, 12))\n",
    "result = model.fit()"
   ]
  },
  {
   "cell_type": "markdown",
   "metadata": {},
   "source": [
    "# Perform prediction\n",
    "\n",
    "Taking the trained model, you can now perform predictions against data it has seen before to see what the model would've predicted. "
   ]
  },
  {
   "cell_type": "code",
   "execution_count": 63,
   "metadata": {},
   "outputs": [
    {
     "data": {
      "image/png": "[encoded data removed]",
      "text/plain": [
       "<Figure size 1008x576 with 1 Axes>"
      ]
     },
     "metadata": {
      "needs_background": "light"
     },
     "output_type": "display_data"
    }
   ],
   "source": [
    "sales_df['forecast_value']= result.predict(start='2018-01-01', end='2018-09-03', dynamic=False)\n",
    "\n",
    "# visualization for the same\n",
    "sales_df.plot(figsize=(14, 8))\n",
    "plt.show()"
   ]
  },
  {
   "cell_type": "markdown",
   "metadata": {},
   "source": [
    "# Perform forecast \n",
    "\n",
    "Taking the trained model, you can now perform forecasts for data the model has not seen before (also known as an out-of-sample forecast). "
   ]
  },
  {
   "cell_type": "code",
   "execution_count": 65,
   "metadata": {},
   "outputs": [
    {
     "data": {
      "text/plain": [
       "615"
      ]
     },
     "execution_count": 65,
     "metadata": {},
     "output_type": "execute_result"
    }
   ],
   "source": [
    "sales_df.index.get_loc(\"2018-09-03\")"
   ]
  },
  {
   "cell_type": "code",
   "execution_count": 66,
   "metadata": {},
   "outputs": [
    {
     "data": {
      "image/png": "[encoded data removed]",
      "text/plain": [
       "<Figure size 432x288 with 1 Axes>"
      ]
     },
     "metadata": {
      "needs_background": "light"
     },
     "output_type": "display_data"
    }
   ],
   "source": [
    "# forecast 30 days from the last recorded date in the dataset \n",
    "plt.plot(result.forecast(steps=30))\n",
    "plt.show()"
   ]
  }
 ],
 "metadata": {
  "interpreter": {
   "hash": "737dee95f12251952d689b173c016b638423f6644d23ceedebaa683681f8eb4f"
  },
  "kernelspec": {
   "display_name": "Python 3.8.11 64-bit ('data101': conda)",
   "name": "python3"
  },
  "language_info": {
   "codemirror_mode": {
    "name": "ipython",
    "version": 3
   },
   "file_extension": ".py",
   "mimetype": "text/x-python",
   "name": "python",
   "nbconvert_exporter": "python",
   "pygments_lexer": "ipython3",
   "version": "3.8.11"
  },
  "orig_nbformat": 4
 },
 "nbformat": 4,
 "nbformat_minor": 2
}
