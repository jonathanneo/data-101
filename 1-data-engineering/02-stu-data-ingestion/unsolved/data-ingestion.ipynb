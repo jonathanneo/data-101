{
 "cells": [
  {
   "cell_type": "markdown",
   "metadata": {},
   "source": [
    "# Import libraries \n",
    "\n",
    "Go ahead an import libraries that you will use into your notebook by running\n",
    "\n",
    "```python\n",
    "import pandas as pd  # it is common to provide an alias (shortened name) for the library you're importing to make it easier to reference in your code \n",
    "```\n",
    "\n",
    "If these libraries do not exist on your computer, you would see a `Module Not Found` error. In that case, go ahead and install these libraries by running: \n",
    "\n",
    "```\n",
    "pip install pandas \n",
    "```"
   ]
  },
  {
   "cell_type": "code",
   "execution_count": null,
   "metadata": {},
   "outputs": [],
   "source": []
  },
  {
   "cell_type": "markdown",
   "metadata": {},
   "source": [
    "# Let's ingest\n",
    "\n",
    "Ingest the following datasets: \n",
    "\n",
    "1. Customers dataset: `customers.csv`\n",
    "2. Orders dataset: `orders.csv` \n",
    "3. Order items dataset: `order_items.csv` \n"
   ]
  },
  {
   "cell_type": "code",
   "execution_count": null,
   "metadata": {},
   "outputs": [],
   "source": [
    "# ingest customers.csv and display the first 5 rows\n"
   ]
  },
  {
   "cell_type": "code",
   "execution_count": null,
   "metadata": {},
   "outputs": [],
   "source": [
    "# ingest orders.csv and display the first 5 rows \n"
   ]
  },
  {
   "cell_type": "code",
   "execution_count": null,
   "metadata": {},
   "outputs": [],
   "source": [
    "# ingest order_items.csv and display the first 5 rows \n"
   ]
  },
  {
   "cell_type": "markdown",
   "metadata": {},
   "source": [
    "# Transforming data \n",
    "\n",
    "Once we have ingested the raw data, the next step is to enrich the data so that it can be used by **Data Analysts** to answer business questions.\n",
    "- \"What are my most popular products?\"\n",
    "- \"Which countries generate the highest revenue?\"\n",
    "\n"
   ]
  },
  {
   "cell_type": "markdown",
   "metadata": {},
   "source": [
    "## Step 1: Merging DataFrames\n",
    "\n",
    "Refer to the diagram below to understand how the DataFrames relates to one another. \n",
    "\n",
    "<img src=\"../resources/database-schema.png\" alt=\"database-schema.png\" style=\"width:600px;\"/>\n",
    "\n",
    "Use the following Pandas function to merge two DataFrames together: \n",
    "\n",
    "```python\n",
    "pd.merge(left=left_df, right=right_df, on=\"<a shared column>\", how=\"<choose one of: inner, left, right, outer >\")\n",
    "```\n"
   ]
  },
  {
   "cell_type": "code",
   "execution_count": null,
   "metadata": {},
   "outputs": [],
   "source": [
    "# merge customers with orders and store result into a new DataFrame\n"
   ]
  },
  {
   "cell_type": "code",
   "execution_count": null,
   "metadata": {},
   "outputs": [],
   "source": [
    "# merge customers_orders with order_items and store result into a new DataFrame\n"
   ]
  },
  {
   "cell_type": "markdown",
   "metadata": {},
   "source": [
    "## Step 2: Add new columns \n",
    "\n",
    "Add the following **new** columns to the DataFrame: \n",
    "- `Unit Price = Sales / Quantity` \n",
    "- `Total Sales = Sales + Shipping Cost`  "
   ]
  },
  {
   "cell_type": "code",
   "execution_count": null,
   "metadata": {},
   "outputs": [],
   "source": [
    "# create new column for unit price with the calculation: Sales / Quantity \n",
    "\n",
    "# create new column for total sales with the calculation: Sales + Shipping Cost \n",
    "\n",
    "# display the first 5 rows "
   ]
  },
  {
   "cell_type": "markdown",
   "metadata": {},
   "source": [
    "# Saving data\n",
    "\n",
    "After completing your transformation steps, you are ready to save your data so that others can consume the datasets you've produced. \n",
    "\n",
    "To save your data when using Pandas, simply perform: \n",
    "\n",
    "```python\n",
    "df.to_csv(\"your file path here\", index=False) # index=False to remove the index column in the DataFrame when saving \n",
    "```\n"
   ]
  },
  {
   "cell_type": "code",
   "execution_count": null,
   "metadata": {},
   "outputs": [],
   "source": []
  }
 ],
 "metadata": {
  "interpreter": {
   "hash": "737dee95f12251952d689b173c016b638423f6644d23ceedebaa683681f8eb4f"
  },
  "kernelspec": {
   "display_name": "Python 3.8.11 64-bit ('data101': conda)",
   "name": "python3"
  },
  "language_info": {
   "codemirror_mode": {
    "name": "ipython",
    "version": 3
   },
   "file_extension": ".py",
   "mimetype": "text/x-python",
   "name": "python",
   "nbconvert_exporter": "python",
   "pygments_lexer": "ipython3",
   "version": "3.8.11"
  },
  "orig_nbformat": 4
 },
 "nbformat": 4,
 "nbformat_minor": 2
}
